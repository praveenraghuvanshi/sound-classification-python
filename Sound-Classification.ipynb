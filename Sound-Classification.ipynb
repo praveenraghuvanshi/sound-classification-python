{
 "cells": [
  {
   "cell_type": "markdown",
   "id": "679f00a2",
   "metadata": {},
   "source": [
    "# Sound Classification"
   ]
  },
  {
   "cell_type": "markdown",
   "id": "0e11366b",
   "metadata": {},
   "source": [
    "## Introduction"
   ]
  },
  {
   "cell_type": "markdown",
   "id": "3e7d38c2",
   "metadata": {},
   "source": [
    "Ever wondered how a Machine Learning algorithm identifies and classifies a sound? In this session, I'll start with the basics of sound, followed by its working using Machine Learning. We'll explore the sound dataset, perform analysis on it and build a multi class sound classifier using pytorch."
   ]
  },
  {
   "cell_type": "markdown",
   "id": "6997d388",
   "metadata": {},
   "source": [
    "## Basics of sound"
   ]
  },
  {
   "cell_type": "markdown",
   "id": "65dd792c",
   "metadata": {},
   "source": [
    "- Frequency\n",
    "- Amplitude\n",
    "- Sample Size\n",
    "- Channels : Mono or Stereo- \n",
    "- Different formats of file (wav, mpeg)\n",
    "- Spectrogram\n",
    "- Mel-Spectrogram\n"
   ]
  },
  {
   "cell_type": "markdown",
   "id": "1611ab66",
   "metadata": {},
   "source": [
    "## Internal of Sound Classification"
   ]
  },
  {
   "cell_type": "markdown",
   "id": "947865fd",
   "metadata": {},
   "source": [
    "TODO: Explain sound classification"
   ]
  },
  {
   "cell_type": "markdown",
   "id": "16c5e53a",
   "metadata": {},
   "source": [
    "## Exploratory Data Analysis"
   ]
  },
  {
   "cell_type": "markdown",
   "id": "b75b7f18",
   "metadata": {},
   "source": [
    "### Dataset"
   ]
  },
  {
   "cell_type": "markdown",
   "id": "58a6b094",
   "metadata": {},
   "source": [
    "Name: GTZAN Dataset - Music Genre Classification\n",
    "Source: https://www.kaggle.com/datasets/andradaolteanu/gtzan-dataset-music-genre-classification?resource=download\n",
    "\n",
    "Dataset contains\n",
    "- genres original folder\n",
    "- images original folder\n",
    "- features30seconds.csv file\n",
    "- features3seconds.csv file"
   ]
  },
  {
   "cell_type": "markdown",
   "id": "f38ceac1",
   "metadata": {},
   "source": [
    "### Install Dependencies"
   ]
  },
  {
   "cell_type": "code",
   "execution_count": 1,
   "id": "fe25e922",
   "metadata": {},
   "outputs": [
    {
     "name": "stdout",
     "output_type": "stream",
     "text": [
      "Python 3.10.4\n"
     ]
    }
   ],
   "source": [
    "!python --version"
   ]
  },
  {
   "cell_type": "code",
   "execution_count": 21,
   "id": "5f915a50",
   "metadata": {
    "scrolled": true
   },
   "outputs": [
    {
     "name": "stdout",
     "output_type": "stream",
     "text": [
      "Requirement already satisfied: numpy in c:\\users\\praghuvanshi\\appdata\\local\\programs\\python\\python310\\lib\\site-packages (from -r requirements.txt (line 1)) (1.22.3)\n",
      "Requirement already satisfied: pandas in c:\\users\\praghuvanshi\\appdata\\local\\programs\\python\\python310\\lib\\site-packages (from -r requirements.txt (line 2)) (1.4.1)\n",
      "Requirement already satisfied: matplotlib in c:\\users\\praghuvanshi\\appdata\\local\\programs\\python\\python310\\lib\\site-packages (from -r requirements.txt (line 3)) (3.5.1)\n",
      "Requirement already satisfied: opendatasets in c:\\users\\praghuvanshi\\appdata\\local\\programs\\python\\python310\\lib\\site-packages (from -r requirements.txt (line 4)) (0.1.20)\n",
      "Requirement already satisfied: torch in c:\\users\\praghuvanshi\\appdata\\local\\programs\\python\\python310\\lib\\site-packages (from -r requirements.txt (line 5)) (1.11.0)\n",
      "Requirement already satisfied: torchaudio in c:\\users\\praghuvanshi\\appdata\\local\\programs\\python\\python310\\lib\\site-packages (from -r requirements.txt (line 6)) (0.11.0)\n",
      "Requirement already satisfied: librosa in c:\\users\\praghuvanshi\\appdata\\local\\programs\\python\\python310\\lib\\site-packages (from -r requirements.txt (line 7)) (0.8.1)\n",
      "Requirement already satisfied: python-dateutil>=2.8.1 in c:\\users\\praghuvanshi\\appdata\\local\\programs\\python\\python310\\lib\\site-packages (from pandas->-r requirements.txt (line 2)) (2.8.2)\n",
      "Requirement already satisfied: pytz>=2020.1 in c:\\users\\praghuvanshi\\appdata\\local\\programs\\python\\python310\\lib\\site-packages (from pandas->-r requirements.txt (line 2)) (2022.1)\n",
      "Requirement already satisfied: pillow>=6.2.0 in c:\\users\\praghuvanshi\\appdata\\local\\programs\\python\\python310\\lib\\site-packages (from matplotlib->-r requirements.txt (line 3)) (9.0.1)\n",
      "Requirement already satisfied: fonttools>=4.22.0 in c:\\users\\praghuvanshi\\appdata\\local\\programs\\python\\python310\\lib\\site-packages (from matplotlib->-r requirements.txt (line 3)) (4.31.2)\n",
      "Requirement already satisfied: packaging>=20.0 in c:\\users\\praghuvanshi\\appdata\\local\\programs\\python\\python310\\lib\\site-packages (from matplotlib->-r requirements.txt (line 3)) (21.3)\n",
      "Requirement already satisfied: cycler>=0.10 in c:\\users\\praghuvanshi\\appdata\\local\\programs\\python\\python310\\lib\\site-packages (from matplotlib->-r requirements.txt (line 3)) (0.11.0)\n",
      "Requirement already satisfied: pyparsing>=2.2.1 in c:\\users\\praghuvanshi\\appdata\\local\\programs\\python\\python310\\lib\\site-packages (from matplotlib->-r requirements.txt (line 3)) (3.0.7)\n",
      "Requirement already satisfied: kiwisolver>=1.0.1 in c:\\users\\praghuvanshi\\appdata\\local\\programs\\python\\python310\\lib\\site-packages (from matplotlib->-r requirements.txt (line 3)) (1.4.2)\n",
      "Requirement already satisfied: kaggle in c:\\users\\praghuvanshi\\appdata\\local\\programs\\python\\python310\\lib\\site-packages (from opendatasets->-r requirements.txt (line 4)) (1.5.12)\n",
      "Requirement already satisfied: tqdm in c:\\users\\praghuvanshi\\appdata\\local\\programs\\python\\python310\\lib\\site-packages (from opendatasets->-r requirements.txt (line 4)) (4.63.1)\n",
      "Requirement already satisfied: click in c:\\users\\praghuvanshi\\appdata\\local\\programs\\python\\python310\\lib\\site-packages (from opendatasets->-r requirements.txt (line 4)) (8.1.0)\n",
      "Requirement already satisfied: typing-extensions in c:\\users\\praghuvanshi\\appdata\\local\\programs\\python\\python310\\lib\\site-packages (from torch->-r requirements.txt (line 5)) (4.1.1)\n",
      "Requirement already satisfied: decorator>=3.0.0 in c:\\users\\praghuvanshi\\appdata\\local\\programs\\python\\python310\\lib\\site-packages (from librosa->-r requirements.txt (line 7)) (5.1.1)\n",
      "Requirement already satisfied: joblib>=0.14 in c:\\users\\praghuvanshi\\appdata\\local\\programs\\python\\python310\\lib\\site-packages (from librosa->-r requirements.txt (line 7)) (1.1.0)\n",
      "Requirement already satisfied: pooch>=1.0 in c:\\users\\praghuvanshi\\appdata\\roaming\\python\\python310\\site-packages (from librosa->-r requirements.txt (line 7)) (1.6.0)\n",
      "Requirement already satisfied: resampy>=0.2.2 in c:\\users\\praghuvanshi\\appdata\\roaming\\python\\python310\\site-packages (from librosa->-r requirements.txt (line 7)) (0.2.2)\n",
      "Requirement already satisfied: scipy>=1.0.0 in c:\\users\\praghuvanshi\\appdata\\local\\programs\\python\\python310\\lib\\site-packages (from librosa->-r requirements.txt (line 7)) (1.8.0)\n",
      "Requirement already satisfied: numba>=0.43.0 in c:\\users\\praghuvanshi\\appdata\\local\\programs\\python\\python310\\lib\\site-packages (from librosa->-r requirements.txt (line 7)) (0.55.1)\n",
      "Requirement already satisfied: scikit-learn!=0.19.0,>=0.14.0 in c:\\users\\praghuvanshi\\appdata\\roaming\\python\\python310\\site-packages (from librosa->-r requirements.txt (line 7)) (1.0.2)\n",
      "Requirement already satisfied: audioread>=2.0.0 in c:\\users\\praghuvanshi\\appdata\\local\\programs\\python\\python310\\lib\\site-packages (from librosa->-r requirements.txt (line 7)) (2.1.9)\n",
      "Requirement already satisfied: soundfile>=0.10.2 in c:\\users\\praghuvanshi\\appdata\\roaming\\python\\python310\\site-packages (from librosa->-r requirements.txt (line 7)) (0.10.3.post1)\n",
      "Collecting numpy\n",
      "  Using cached numpy-1.21.5-cp310-cp310-win_amd64.whl (14.0 MB)\n",
      "Requirement already satisfied: setuptools in c:\\users\\praghuvanshi\\appdata\\local\\programs\\python\\python310\\lib\\site-packages (from numba>=0.43.0->librosa->-r requirements.txt (line 7)) (58.1.0)\n",
      "Requirement already satisfied: llvmlite<0.39,>=0.38.0rc1 in c:\\users\\praghuvanshi\\appdata\\local\\programs\\python\\python310\\lib\\site-packages (from numba>=0.43.0->librosa->-r requirements.txt (line 7)) (0.38.0)\n",
      "Requirement already satisfied: appdirs>=1.3.0 in c:\\users\\praghuvanshi\\appdata\\local\\programs\\python\\python310\\lib\\site-packages (from pooch>=1.0->librosa->-r requirements.txt (line 7)) (1.4.4)\n",
      "Requirement already satisfied: requests>=2.19.0 in c:\\users\\praghuvanshi\\appdata\\local\\programs\\python\\python310\\lib\\site-packages (from pooch>=1.0->librosa->-r requirements.txt (line 7)) (2.27.1)\n",
      "Requirement already satisfied: six>=1.5 in c:\\users\\praghuvanshi\\appdata\\local\\programs\\python\\python310\\lib\\site-packages (from python-dateutil>=2.8.1->pandas->-r requirements.txt (line 2)) (1.16.0)\n",
      "Requirement already satisfied: threadpoolctl>=2.0.0 in c:\\users\\praghuvanshi\\appdata\\local\\programs\\python\\python310\\lib\\site-packages (from scikit-learn!=0.19.0,>=0.14.0->librosa->-r requirements.txt (line 7)) (3.1.0)\n",
      "Requirement already satisfied: cffi>=1.0 in c:\\users\\praghuvanshi\\appdata\\local\\programs\\python\\python310\\lib\\site-packages (from soundfile>=0.10.2->librosa->-r requirements.txt (line 7)) (1.15.0)\n",
      "Requirement already satisfied: colorama in c:\\users\\praghuvanshi\\appdata\\local\\programs\\python\\python310\\lib\\site-packages (from click->opendatasets->-r requirements.txt (line 4)) (0.4.4)\n",
      "Requirement already satisfied: certifi in c:\\users\\praghuvanshi\\appdata\\local\\programs\\python\\python310\\lib\\site-packages (from kaggle->opendatasets->-r requirements.txt (line 4)) (2021.10.8)\n",
      "Requirement already satisfied: python-slugify in c:\\users\\praghuvanshi\\appdata\\local\\programs\\python\\python310\\lib\\site-packages (from kaggle->opendatasets->-r requirements.txt (line 4)) (6.1.1)\n",
      "Requirement already satisfied: urllib3 in c:\\users\\praghuvanshi\\appdata\\local\\programs\\python\\python310\\lib\\site-packages (from kaggle->opendatasets->-r requirements.txt (line 4)) (1.26.9)\n",
      "Requirement already satisfied: pycparser in c:\\users\\praghuvanshi\\appdata\\local\\programs\\python\\python310\\lib\\site-packages (from cffi>=1.0->soundfile>=0.10.2->librosa->-r requirements.txt (line 7)) (2.21)\n",
      "Requirement already satisfied: idna<4,>=2.5 in c:\\users\\praghuvanshi\\appdata\\local\\programs\\python\\python310\\lib\\site-packages (from requests>=2.19.0->pooch>=1.0->librosa->-r requirements.txt (line 7)) (3.3)\n",
      "Requirement already satisfied: charset-normalizer~=2.0.0 in c:\\users\\praghuvanshi\\appdata\\local\\programs\\python\\python310\\lib\\site-packages (from requests>=2.19.0->pooch>=1.0->librosa->-r requirements.txt (line 7)) (2.0.12)\n",
      "Requirement already satisfied: text-unidecode>=1.3 in c:\\users\\praghuvanshi\\appdata\\local\\programs\\python\\python310\\lib\\site-packages (from python-slugify->kaggle->opendatasets->-r requirements.txt (line 4)) (1.3)\n",
      "Installing collected packages: numpy\n",
      "  Attempting uninstall: numpy\n",
      "    Found existing installation: numpy 1.22.3\n",
      "    Uninstalling numpy-1.22.3:\n",
      "      Successfully uninstalled numpy-1.22.3\n",
      "Successfully installed numpy-1.21.5\n"
     ]
    }
   ],
   "source": [
    "!pip install -r requirements.txt"
   ]
  },
  {
   "cell_type": "code",
   "execution_count": 3,
   "id": "79801241",
   "metadata": {},
   "outputs": [
    {
     "name": "stdout",
     "output_type": "stream",
     "text": [
      "['D:\\\\Praveen\\\\sourcecontrol\\\\github\\\\praveenraghuvanshi\\\\sound-classification\\\\python\\\\src', 'C:\\\\Users\\\\praghuvanshi\\\\AppData\\\\Local\\\\Programs\\\\Python\\\\Python310\\\\python310.zip', 'C:\\\\Users\\\\praghuvanshi\\\\AppData\\\\Local\\\\Programs\\\\Python\\\\Python310\\\\DLLs', 'C:\\\\Users\\\\praghuvanshi\\\\AppData\\\\Local\\\\Programs\\\\Python\\\\Python310\\\\lib', 'C:\\\\Users\\\\praghuvanshi\\\\AppData\\\\Local\\\\Programs\\\\Python\\\\Python310', '', 'C:\\\\Users\\\\praghuvanshi\\\\AppData\\\\Roaming\\\\Python\\\\Python310\\\\site-packages', 'C:\\\\Users\\\\praghuvanshi\\\\AppData\\\\Local\\\\Programs\\\\Python\\\\Python310\\\\lib\\\\site-packages', 'C:\\\\Users\\\\praghuvanshi\\\\AppData\\\\Local\\\\Programs\\\\Python\\\\Python310\\\\lib\\\\site-packages\\\\win32', 'C:\\\\Users\\\\praghuvanshi\\\\AppData\\\\Local\\\\Programs\\\\Python\\\\Python310\\\\lib\\\\site-packages\\\\win32\\\\lib', 'C:\\\\Users\\\\praghuvanshi\\\\AppData\\\\Local\\\\Programs\\\\Python\\\\Python310\\\\lib\\\\site-packages\\\\Pythonwin']\n",
      "C:\\Users\\praghuvanshi\\AppData\\Local\\Programs\\Python\\Python310\\python.exe\n"
     ]
    }
   ],
   "source": [
    "import sys\n",
    "print(sys.path)\n",
    "print(sys.executable)"
   ]
  },
  {
   "cell_type": "markdown",
   "id": "07f72dfe",
   "metadata": {},
   "source": [
    "### Import Packages"
   ]
  },
  {
   "cell_type": "code",
   "execution_count": 29,
   "id": "f054e11a",
   "metadata": {},
   "outputs": [],
   "source": [
    "# Data Analysis\n",
    "import numpy as np\n",
    "import pandas as pd              # loading dataset\n",
    "import matplotlib.pyplot as plt  # plotting library\n",
    "import opendatasets as od        # download kaggle dataset\n",
    "\n",
    "# I/O\n",
    "import os                        # OS related commands such as listing of directory\n",
    "\n",
    "# Deep Neural Network and Audio processing\n",
    "import torch\n",
    "import torchaudio                 # accessing and processing audio \n",
    "import torchaudio.transforms as T # Audio transformation\n",
    "import librosa                    # audio processing"
   ]
  },
  {
   "cell_type": "code",
   "execution_count": 6,
   "id": "adee8993",
   "metadata": {},
   "outputs": [
    {
     "name": "stdout",
     "output_type": "stream",
     "text": [
      "soundfile\n"
     ]
    }
   ],
   "source": [
    "audio_backend = torchaudio.get_audio_backend()\n",
    "\n",
    "if audio_backend == None:\n",
    "    !pip install PySoundFile\n",
    "    torchaudio.USE_SOUNDFILE_LEGACY_INTERFACE = False\n",
    "    torchaudio.set_audio_backend(\"soundfile\")\n",
    "    \n",
    "print(torchaudio.get_audio_backend())"
   ]
  },
  {
   "cell_type": "markdown",
   "id": "ee52153a",
   "metadata": {},
   "source": [
    "### Define CONSTANTS and Variables"
   ]
  },
  {
   "cell_type": "code",
   "execution_count": 7,
   "id": "82869656",
   "metadata": {},
   "outputs": [
    {
     "name": "stdout",
     "output_type": "stream",
     "text": [
      "D:\\Praveen\\sourcecontrol\\github\\praveenraghuvanshi\\sound-classification\\python\\src\\gtzan-dataset-music-genre-classification\\Data\\genres_original\\jazz\\jazz.00002.wav\n"
     ]
    }
   ],
   "source": [
    "CURRENT_WORKING_DIRECTORY = os.getcwd()\n",
    "DATASET_PATH = os.path.join(CURRENT_WORKING_DIRECTORY, 'gtzan-dataset-music-genre-classification', 'Data')\n",
    "JAZZ_DIRECTORY_PATH = os.path.join(DATASET_PATH, 'genres_original', 'jazz')\n",
    "SAMPLE_AUDIO_FILE_PATH = os.path.join(JAZZ_DIRECTORY_PATH, 'jazz.00002.wav')\n",
    "\n",
    "FEATURES_30_SECONDS_PATH = os.path.join(DATASET_PATH, 'features_30_sec.csv')\n",
    "\n",
    "print(SAMPLE_AUDIO_FILE_PATH)"
   ]
  },
  {
   "cell_type": "markdown",
   "id": "11d21c4c",
   "metadata": {},
   "source": [
    "### Utility Functions"
   ]
  },
  {
   "cell_type": "markdown",
   "id": "404d2ac9",
   "metadata": {},
   "source": [
    "#### Plot Waveform"
   ]
  },
  {
   "cell_type": "code",
   "execution_count": 8,
   "id": "f1c2440a",
   "metadata": {},
   "outputs": [],
   "source": [
    "### Plots waveform of an audio file\n",
    "### source: https://pytorch.org/tutorials/beginner/audio_preprocessing_tutorial.html\n",
    "def plot_waveform(waveform, sample_rate, title=\"Waveform\", xlim=None, ylim=None):\n",
    "  waveform = waveform.numpy()\n",
    "\n",
    "  num_channels, num_frames = waveform.shape\n",
    "  time_axis = torch.arange(0, num_frames) / sample_rate\n",
    "\n",
    "  figure, axes = plt.subplots(num_channels, 1)\n",
    "  if num_channels == 1:\n",
    "    axes = [axes]\n",
    "  for c in range(num_channels):\n",
    "    axes[c].plot(time_axis, waveform[c], linewidth=1)\n",
    "    axes[c].grid(True)\n",
    "    if num_channels > 1:\n",
    "      axes[c].set_ylabel(f'Channel {c+1}')\n",
    "    if xlim:\n",
    "      axes[c].set_xlim(xlim)\n",
    "    if ylim:\n",
    "      axes[c].set_ylim(ylim)\n",
    "  figure.suptitle(title)\n",
    "  plt.show(block=False)"
   ]
  },
  {
   "cell_type": "markdown",
   "id": "1d73f933",
   "metadata": {},
   "source": [
    "#### Plot Spectrogram"
   ]
  },
  {
   "cell_type": "code",
   "execution_count": 9,
   "id": "1ef21666",
   "metadata": {},
   "outputs": [],
   "source": [
    "### Plot Spectrogram\n",
    "### source: https://pytorch.org/tutorials/beginner/audio_preprocessing_tutorial.html\n",
    "def plot_spectrogram(spec, title=None, ylabel='freq_bin', aspect='auto', xmax=None):\n",
    "  fig, axs = plt.subplots(1, 1)\n",
    "  axs.set_title(title or 'Spectrogram (db)')\n",
    "  axs.set_ylabel(ylabel)\n",
    "  axs.set_xlabel('frame')\n",
    "  im = axs.imshow(librosa.power_to_db(spec), origin='lower', aspect=aspect)\n",
    "  if xmax:\n",
    "    axs.set_xlim((0, xmax))\n",
    "  fig.colorbar(im, ax=axs)\n",
    "  plt.show(block=False)"
   ]
  },
  {
   "cell_type": "markdown",
   "id": "7bb1f23d",
   "metadata": {},
   "source": [
    "### Download Dataset"
   ]
  },
  {
   "cell_type": "code",
   "execution_count": 10,
   "id": "196cd53e",
   "metadata": {},
   "outputs": [
    {
     "name": "stdout",
     "output_type": "stream",
     "text": [
      "Directory  exists\n"
     ]
    }
   ],
   "source": [
    "if os.path.isdir(DATASET_PATH) :\n",
    " print(\"Directory  exists\")\n",
    "else:\n",
    " print(\"Directory not exists\")\n",
    " od.download(\"https://www.kaggle.com/andradaolteanu/gtzan-dataset-music-genre-classification\")"
   ]
  },
  {
   "cell_type": "code",
   "execution_count": 11,
   "id": "554aec67",
   "metadata": {},
   "outputs": [
    {
     "name": "stdout",
     "output_type": "stream",
     "text": [
      "D:\\Praveen\\sourcecontrol\\github\\praveenraghuvanshi\\sound-classification\\python\\src\n",
      "['.ipynb_checkpoints', 'features_30_sec.csv', 'gtzan-dataset-music-genre-classification', 'requirements.txt', 'Sound-Classification.ipynb']\n"
     ]
    }
   ],
   "source": [
    "print(os.getcwd())\n",
    "print(os.listdir())"
   ]
  },
  {
   "cell_type": "markdown",
   "id": "890d8080",
   "metadata": {},
   "source": [
    "### Analysis"
   ]
  },
  {
   "cell_type": "markdown",
   "id": "8039c464",
   "metadata": {},
   "source": [
    "We will load 'features_3_sec.csv' into dataframe for analysis"
   ]
  },
  {
   "cell_type": "code",
   "execution_count": 12,
   "id": "89cc95e0",
   "metadata": {},
   "outputs": [],
   "source": [
    "import pandas as pd\n",
    "\n",
    "audio_df = pd.read_csv(FEATURES_30_SECONDS_PATH, header=0)"
   ]
  },
  {
   "cell_type": "code",
   "execution_count": 13,
   "id": "41fa748a",
   "metadata": {},
   "outputs": [
    {
     "data": {
      "text/html": [
       "<div>\n",
       "<style scoped>\n",
       "    .dataframe tbody tr th:only-of-type {\n",
       "        vertical-align: middle;\n",
       "    }\n",
       "\n",
       "    .dataframe tbody tr th {\n",
       "        vertical-align: top;\n",
       "    }\n",
       "\n",
       "    .dataframe thead th {\n",
       "        text-align: right;\n",
       "    }\n",
       "</style>\n",
       "<table border=\"1\" class=\"dataframe\">\n",
       "  <thead>\n",
       "    <tr style=\"text-align: right;\">\n",
       "      <th></th>\n",
       "      <th>filename</th>\n",
       "      <th>length</th>\n",
       "      <th>chroma_stft_mean</th>\n",
       "      <th>chroma_stft_var</th>\n",
       "      <th>rms_mean</th>\n",
       "      <th>rms_var</th>\n",
       "      <th>spectral_centroid_mean</th>\n",
       "      <th>spectral_centroid_var</th>\n",
       "      <th>spectral_bandwidth_mean</th>\n",
       "      <th>spectral_bandwidth_var</th>\n",
       "      <th>...</th>\n",
       "      <th>mfcc16_var</th>\n",
       "      <th>mfcc17_mean</th>\n",
       "      <th>mfcc17_var</th>\n",
       "      <th>mfcc18_mean</th>\n",
       "      <th>mfcc18_var</th>\n",
       "      <th>mfcc19_mean</th>\n",
       "      <th>mfcc19_var</th>\n",
       "      <th>mfcc20_mean</th>\n",
       "      <th>mfcc20_var</th>\n",
       "      <th>label</th>\n",
       "    </tr>\n",
       "  </thead>\n",
       "  <tbody>\n",
       "    <tr>\n",
       "      <th>0</th>\n",
       "      <td>blues.00000.wav</td>\n",
       "      <td>661794</td>\n",
       "      <td>0.350088</td>\n",
       "      <td>0.088757</td>\n",
       "      <td>0.130228</td>\n",
       "      <td>0.002827</td>\n",
       "      <td>1784.165850</td>\n",
       "      <td>129774.064525</td>\n",
       "      <td>2002.449060</td>\n",
       "      <td>85882.761315</td>\n",
       "      <td>...</td>\n",
       "      <td>52.420910</td>\n",
       "      <td>-1.690215</td>\n",
       "      <td>36.524071</td>\n",
       "      <td>-0.408979</td>\n",
       "      <td>41.597103</td>\n",
       "      <td>-2.303523</td>\n",
       "      <td>55.062923</td>\n",
       "      <td>1.221291</td>\n",
       "      <td>46.936035</td>\n",
       "      <td>blues</td>\n",
       "    </tr>\n",
       "    <tr>\n",
       "      <th>1</th>\n",
       "      <td>blues.00001.wav</td>\n",
       "      <td>661794</td>\n",
       "      <td>0.340914</td>\n",
       "      <td>0.094980</td>\n",
       "      <td>0.095948</td>\n",
       "      <td>0.002373</td>\n",
       "      <td>1530.176679</td>\n",
       "      <td>375850.073649</td>\n",
       "      <td>2039.036516</td>\n",
       "      <td>213843.755497</td>\n",
       "      <td>...</td>\n",
       "      <td>55.356403</td>\n",
       "      <td>-0.731125</td>\n",
       "      <td>60.314529</td>\n",
       "      <td>0.295073</td>\n",
       "      <td>48.120598</td>\n",
       "      <td>-0.283518</td>\n",
       "      <td>51.106190</td>\n",
       "      <td>0.531217</td>\n",
       "      <td>45.786282</td>\n",
       "      <td>blues</td>\n",
       "    </tr>\n",
       "    <tr>\n",
       "      <th>2</th>\n",
       "      <td>blues.00002.wav</td>\n",
       "      <td>661794</td>\n",
       "      <td>0.363637</td>\n",
       "      <td>0.085275</td>\n",
       "      <td>0.175570</td>\n",
       "      <td>0.002746</td>\n",
       "      <td>1552.811865</td>\n",
       "      <td>156467.643368</td>\n",
       "      <td>1747.702312</td>\n",
       "      <td>76254.192257</td>\n",
       "      <td>...</td>\n",
       "      <td>40.598766</td>\n",
       "      <td>-7.729093</td>\n",
       "      <td>47.639427</td>\n",
       "      <td>-1.816407</td>\n",
       "      <td>52.382141</td>\n",
       "      <td>-3.439720</td>\n",
       "      <td>46.639660</td>\n",
       "      <td>-2.231258</td>\n",
       "      <td>30.573025</td>\n",
       "      <td>blues</td>\n",
       "    </tr>\n",
       "    <tr>\n",
       "      <th>3</th>\n",
       "      <td>blues.00003.wav</td>\n",
       "      <td>661794</td>\n",
       "      <td>0.404785</td>\n",
       "      <td>0.093999</td>\n",
       "      <td>0.141093</td>\n",
       "      <td>0.006346</td>\n",
       "      <td>1070.106615</td>\n",
       "      <td>184355.942417</td>\n",
       "      <td>1596.412872</td>\n",
       "      <td>166441.494769</td>\n",
       "      <td>...</td>\n",
       "      <td>44.427753</td>\n",
       "      <td>-3.319597</td>\n",
       "      <td>50.206673</td>\n",
       "      <td>0.636965</td>\n",
       "      <td>37.319130</td>\n",
       "      <td>-0.619121</td>\n",
       "      <td>37.259739</td>\n",
       "      <td>-3.407448</td>\n",
       "      <td>31.949339</td>\n",
       "      <td>blues</td>\n",
       "    </tr>\n",
       "    <tr>\n",
       "      <th>4</th>\n",
       "      <td>blues.00004.wav</td>\n",
       "      <td>661794</td>\n",
       "      <td>0.308526</td>\n",
       "      <td>0.087841</td>\n",
       "      <td>0.091529</td>\n",
       "      <td>0.002303</td>\n",
       "      <td>1835.004266</td>\n",
       "      <td>343399.939274</td>\n",
       "      <td>1748.172116</td>\n",
       "      <td>88445.209036</td>\n",
       "      <td>...</td>\n",
       "      <td>86.099236</td>\n",
       "      <td>-5.454034</td>\n",
       "      <td>75.269707</td>\n",
       "      <td>-0.916874</td>\n",
       "      <td>53.613918</td>\n",
       "      <td>-4.404827</td>\n",
       "      <td>62.910812</td>\n",
       "      <td>-11.703234</td>\n",
       "      <td>55.195160</td>\n",
       "      <td>blues</td>\n",
       "    </tr>\n",
       "  </tbody>\n",
       "</table>\n",
       "<p>5 rows × 60 columns</p>\n",
       "</div>"
      ],
      "text/plain": [
       "          filename  length  chroma_stft_mean  chroma_stft_var  rms_mean  \\\n",
       "0  blues.00000.wav  661794          0.350088         0.088757  0.130228   \n",
       "1  blues.00001.wav  661794          0.340914         0.094980  0.095948   \n",
       "2  blues.00002.wav  661794          0.363637         0.085275  0.175570   \n",
       "3  blues.00003.wav  661794          0.404785         0.093999  0.141093   \n",
       "4  blues.00004.wav  661794          0.308526         0.087841  0.091529   \n",
       "\n",
       "    rms_var  spectral_centroid_mean  spectral_centroid_var  \\\n",
       "0  0.002827             1784.165850          129774.064525   \n",
       "1  0.002373             1530.176679          375850.073649   \n",
       "2  0.002746             1552.811865          156467.643368   \n",
       "3  0.006346             1070.106615          184355.942417   \n",
       "4  0.002303             1835.004266          343399.939274   \n",
       "\n",
       "   spectral_bandwidth_mean  spectral_bandwidth_var  ...  mfcc16_var  \\\n",
       "0              2002.449060            85882.761315  ...   52.420910   \n",
       "1              2039.036516           213843.755497  ...   55.356403   \n",
       "2              1747.702312            76254.192257  ...   40.598766   \n",
       "3              1596.412872           166441.494769  ...   44.427753   \n",
       "4              1748.172116            88445.209036  ...   86.099236   \n",
       "\n",
       "   mfcc17_mean  mfcc17_var  mfcc18_mean  mfcc18_var  mfcc19_mean  mfcc19_var  \\\n",
       "0    -1.690215   36.524071    -0.408979   41.597103    -2.303523   55.062923   \n",
       "1    -0.731125   60.314529     0.295073   48.120598    -0.283518   51.106190   \n",
       "2    -7.729093   47.639427    -1.816407   52.382141    -3.439720   46.639660   \n",
       "3    -3.319597   50.206673     0.636965   37.319130    -0.619121   37.259739   \n",
       "4    -5.454034   75.269707    -0.916874   53.613918    -4.404827   62.910812   \n",
       "\n",
       "   mfcc20_mean  mfcc20_var  label  \n",
       "0     1.221291   46.936035  blues  \n",
       "1     0.531217   45.786282  blues  \n",
       "2    -2.231258   30.573025  blues  \n",
       "3    -3.407448   31.949339  blues  \n",
       "4   -11.703234   55.195160  blues  \n",
       "\n",
       "[5 rows x 60 columns]"
      ]
     },
     "execution_count": 13,
     "metadata": {},
     "output_type": "execute_result"
    }
   ],
   "source": [
    "audio_df.head()"
   ]
  },
  {
   "cell_type": "code",
   "execution_count": 14,
   "id": "b9320953",
   "metadata": {
    "scrolled": true
   },
   "outputs": [
    {
     "data": {
      "text/html": [
       "<div>\n",
       "<style scoped>\n",
       "    .dataframe tbody tr th:only-of-type {\n",
       "        vertical-align: middle;\n",
       "    }\n",
       "\n",
       "    .dataframe tbody tr th {\n",
       "        vertical-align: top;\n",
       "    }\n",
       "\n",
       "    .dataframe thead th {\n",
       "        text-align: right;\n",
       "    }\n",
       "</style>\n",
       "<table border=\"1\" class=\"dataframe\">\n",
       "  <thead>\n",
       "    <tr style=\"text-align: right;\">\n",
       "      <th></th>\n",
       "      <th>filename</th>\n",
       "      <th>length</th>\n",
       "      <th>chroma_stft_mean</th>\n",
       "      <th>chroma_stft_var</th>\n",
       "      <th>rms_mean</th>\n",
       "      <th>rms_var</th>\n",
       "      <th>spectral_centroid_mean</th>\n",
       "      <th>spectral_centroid_var</th>\n",
       "      <th>spectral_bandwidth_mean</th>\n",
       "      <th>spectral_bandwidth_var</th>\n",
       "      <th>...</th>\n",
       "      <th>mfcc16_var</th>\n",
       "      <th>mfcc17_mean</th>\n",
       "      <th>mfcc17_var</th>\n",
       "      <th>mfcc18_mean</th>\n",
       "      <th>mfcc18_var</th>\n",
       "      <th>mfcc19_mean</th>\n",
       "      <th>mfcc19_var</th>\n",
       "      <th>mfcc20_mean</th>\n",
       "      <th>mfcc20_var</th>\n",
       "      <th>label</th>\n",
       "    </tr>\n",
       "  </thead>\n",
       "  <tbody>\n",
       "    <tr>\n",
       "      <th>995</th>\n",
       "      <td>rock.00095.wav</td>\n",
       "      <td>661794</td>\n",
       "      <td>0.352063</td>\n",
       "      <td>0.080487</td>\n",
       "      <td>0.079486</td>\n",
       "      <td>0.000345</td>\n",
       "      <td>2008.149458</td>\n",
       "      <td>282174.689224</td>\n",
       "      <td>2106.541053</td>\n",
       "      <td>88609.749506</td>\n",
       "      <td>...</td>\n",
       "      <td>45.050526</td>\n",
       "      <td>-13.289984</td>\n",
       "      <td>41.754955</td>\n",
       "      <td>2.484145</td>\n",
       "      <td>36.778877</td>\n",
       "      <td>-6.713265</td>\n",
       "      <td>54.866825</td>\n",
       "      <td>-1.193787</td>\n",
       "      <td>49.950665</td>\n",
       "      <td>rock</td>\n",
       "    </tr>\n",
       "    <tr>\n",
       "      <th>996</th>\n",
       "      <td>rock.00096.wav</td>\n",
       "      <td>661794</td>\n",
       "      <td>0.398687</td>\n",
       "      <td>0.075086</td>\n",
       "      <td>0.076458</td>\n",
       "      <td>0.000588</td>\n",
       "      <td>2006.843354</td>\n",
       "      <td>182114.709510</td>\n",
       "      <td>2068.942009</td>\n",
       "      <td>82426.016726</td>\n",
       "      <td>...</td>\n",
       "      <td>33.851742</td>\n",
       "      <td>-10.848309</td>\n",
       "      <td>39.395096</td>\n",
       "      <td>1.881229</td>\n",
       "      <td>32.010040</td>\n",
       "      <td>-7.461491</td>\n",
       "      <td>39.196327</td>\n",
       "      <td>-2.795338</td>\n",
       "      <td>31.773624</td>\n",
       "      <td>rock</td>\n",
       "    </tr>\n",
       "    <tr>\n",
       "      <th>997</th>\n",
       "      <td>rock.00097.wav</td>\n",
       "      <td>661794</td>\n",
       "      <td>0.432142</td>\n",
       "      <td>0.075268</td>\n",
       "      <td>0.081651</td>\n",
       "      <td>0.000322</td>\n",
       "      <td>2077.526598</td>\n",
       "      <td>231657.968040</td>\n",
       "      <td>1927.293153</td>\n",
       "      <td>74717.124394</td>\n",
       "      <td>...</td>\n",
       "      <td>33.597008</td>\n",
       "      <td>-12.845291</td>\n",
       "      <td>36.367264</td>\n",
       "      <td>3.440978</td>\n",
       "      <td>36.001110</td>\n",
       "      <td>-12.588070</td>\n",
       "      <td>42.502201</td>\n",
       "      <td>-2.106337</td>\n",
       "      <td>29.865515</td>\n",
       "      <td>rock</td>\n",
       "    </tr>\n",
       "    <tr>\n",
       "      <th>998</th>\n",
       "      <td>rock.00098.wav</td>\n",
       "      <td>661794</td>\n",
       "      <td>0.362485</td>\n",
       "      <td>0.091506</td>\n",
       "      <td>0.083860</td>\n",
       "      <td>0.001211</td>\n",
       "      <td>1398.699344</td>\n",
       "      <td>240318.731073</td>\n",
       "      <td>1818.450280</td>\n",
       "      <td>109090.207161</td>\n",
       "      <td>...</td>\n",
       "      <td>46.324894</td>\n",
       "      <td>-4.416050</td>\n",
       "      <td>43.583942</td>\n",
       "      <td>1.556207</td>\n",
       "      <td>34.331261</td>\n",
       "      <td>-5.041897</td>\n",
       "      <td>47.227180</td>\n",
       "      <td>-3.590644</td>\n",
       "      <td>41.299088</td>\n",
       "      <td>rock</td>\n",
       "    </tr>\n",
       "    <tr>\n",
       "      <th>999</th>\n",
       "      <td>rock.00099.wav</td>\n",
       "      <td>661794</td>\n",
       "      <td>0.358401</td>\n",
       "      <td>0.085884</td>\n",
       "      <td>0.054454</td>\n",
       "      <td>0.000336</td>\n",
       "      <td>1609.795082</td>\n",
       "      <td>422203.216152</td>\n",
       "      <td>1797.213044</td>\n",
       "      <td>120115.632927</td>\n",
       "      <td>...</td>\n",
       "      <td>59.167755</td>\n",
       "      <td>-7.069775</td>\n",
       "      <td>73.760391</td>\n",
       "      <td>0.028346</td>\n",
       "      <td>76.504326</td>\n",
       "      <td>-2.025783</td>\n",
       "      <td>72.189316</td>\n",
       "      <td>1.155239</td>\n",
       "      <td>49.662510</td>\n",
       "      <td>rock</td>\n",
       "    </tr>\n",
       "  </tbody>\n",
       "</table>\n",
       "<p>5 rows × 60 columns</p>\n",
       "</div>"
      ],
      "text/plain": [
       "           filename  length  chroma_stft_mean  chroma_stft_var  rms_mean  \\\n",
       "995  rock.00095.wav  661794          0.352063         0.080487  0.079486   \n",
       "996  rock.00096.wav  661794          0.398687         0.075086  0.076458   \n",
       "997  rock.00097.wav  661794          0.432142         0.075268  0.081651   \n",
       "998  rock.00098.wav  661794          0.362485         0.091506  0.083860   \n",
       "999  rock.00099.wav  661794          0.358401         0.085884  0.054454   \n",
       "\n",
       "      rms_var  spectral_centroid_mean  spectral_centroid_var  \\\n",
       "995  0.000345             2008.149458          282174.689224   \n",
       "996  0.000588             2006.843354          182114.709510   \n",
       "997  0.000322             2077.526598          231657.968040   \n",
       "998  0.001211             1398.699344          240318.731073   \n",
       "999  0.000336             1609.795082          422203.216152   \n",
       "\n",
       "     spectral_bandwidth_mean  spectral_bandwidth_var  ...  mfcc16_var  \\\n",
       "995              2106.541053            88609.749506  ...   45.050526   \n",
       "996              2068.942009            82426.016726  ...   33.851742   \n",
       "997              1927.293153            74717.124394  ...   33.597008   \n",
       "998              1818.450280           109090.207161  ...   46.324894   \n",
       "999              1797.213044           120115.632927  ...   59.167755   \n",
       "\n",
       "     mfcc17_mean  mfcc17_var  mfcc18_mean  mfcc18_var  mfcc19_mean  \\\n",
       "995   -13.289984   41.754955     2.484145   36.778877    -6.713265   \n",
       "996   -10.848309   39.395096     1.881229   32.010040    -7.461491   \n",
       "997   -12.845291   36.367264     3.440978   36.001110   -12.588070   \n",
       "998    -4.416050   43.583942     1.556207   34.331261    -5.041897   \n",
       "999    -7.069775   73.760391     0.028346   76.504326    -2.025783   \n",
       "\n",
       "     mfcc19_var  mfcc20_mean  mfcc20_var  label  \n",
       "995   54.866825    -1.193787   49.950665   rock  \n",
       "996   39.196327    -2.795338   31.773624   rock  \n",
       "997   42.502201    -2.106337   29.865515   rock  \n",
       "998   47.227180    -3.590644   41.299088   rock  \n",
       "999   72.189316     1.155239   49.662510   rock  \n",
       "\n",
       "[5 rows x 60 columns]"
      ]
     },
     "execution_count": 14,
     "metadata": {},
     "output_type": "execute_result"
    }
   ],
   "source": [
    "audio_df.tail()"
   ]
  },
  {
   "cell_type": "code",
   "execution_count": 15,
   "id": "c1b893a2",
   "metadata": {},
   "outputs": [
    {
     "data": {
      "text/plain": [
       "(1000, 60)"
      ]
     },
     "execution_count": 15,
     "metadata": {},
     "output_type": "execute_result"
    }
   ],
   "source": [
    "audio_df.shape"
   ]
  },
  {
   "cell_type": "code",
   "execution_count": 16,
   "id": "1b0b55af",
   "metadata": {},
   "outputs": [
    {
     "name": "stdout",
     "output_type": "stream",
     "text": [
      "            filename  length  label\n",
      "0    blues.00000.wav  661794  blues\n",
      "1    blues.00001.wav  661794  blues\n",
      "2    blues.00002.wav  661794  blues\n",
      "3    blues.00003.wav  661794  blues\n",
      "4    blues.00004.wav  661794  blues\n",
      "..               ...     ...    ...\n",
      "995   rock.00095.wav  661794   rock\n",
      "996   rock.00096.wav  661794   rock\n",
      "997   rock.00097.wav  661794   rock\n",
      "998   rock.00098.wav  661794   rock\n",
      "999   rock.00099.wav  661794   rock\n",
      "\n",
      "[1000 rows x 3 columns]\n"
     ]
    }
   ],
   "source": [
    "audio_modified_df = audio_df[['filename', 'length', 'label']]\n",
    "print(audio_modified_df)"
   ]
  },
  {
   "cell_type": "code",
   "execution_count": 17,
   "id": "78fe9a94",
   "metadata": {},
   "outputs": [
    {
     "data": {
      "text/plain": [
       "blues        100\n",
       "classical    100\n",
       "country      100\n",
       "disco        100\n",
       "hiphop       100\n",
       "jazz         100\n",
       "metal        100\n",
       "pop          100\n",
       "reggae       100\n",
       "rock         100\n",
       "Name: label, dtype: int64"
      ]
     },
     "execution_count": 17,
     "metadata": {},
     "output_type": "execute_result"
    }
   ],
   "source": [
    "audio_modified_df.label.value_counts()"
   ]
  },
  {
   "cell_type": "code",
   "execution_count": 18,
   "id": "558feef4",
   "metadata": {
    "scrolled": true
   },
   "outputs": [
    {
     "data": {
      "image/png": "[encoded data removed]",
      "text/plain": [
       "<Figure size 432x288 with 1 Axes>"
      ]
     },
     "metadata": {
      "needs_background": "light"
     },
     "output_type": "display_data"
    }
   ],
   "source": [
    "labels = audio_modified_df.label.unique()\n",
    "data = audio_modified_df.label.value_counts()\n",
    "plt.xticks(range(len(data)), labels,rotation='vertical')\n",
    "plt.xlabel('Genre')\n",
    "plt.ylabel('Count')\n",
    "plt.title('No of records per Genre')\n",
    "plt.bar(range(len(data)), data) \n",
    "plt.show()"
   ]
  },
  {
   "cell_type": "markdown",
   "id": "9ab255f2",
   "metadata": {},
   "source": [
    "### Analyze Audio Data"
   ]
  },
  {
   "cell_type": "markdown",
   "id": "b0e94544",
   "metadata": {},
   "source": [
    "#### Metadata"
   ]
  },
  {
   "cell_type": "code",
   "execution_count": 19,
   "id": "86111f38",
   "metadata": {},
   "outputs": [
    {
     "name": "stdout",
     "output_type": "stream",
     "text": [
      "************ AUDIO METADATA ***************\n",
      "\n",
      "Sample Rate              : 22050\n",
      "Number of Frames/Channel : 661794\n",
      "Number of Channels       : 1\n",
      "Bits Depth               : 16\n",
      "Encoding Format          : PCM_S\n",
      "File size               : 1323632 bytes / 1292.61 kb\n",
      "\n",
      "******************************************\n"
     ]
    }
   ],
   "source": [
    "metadata = torchaudio.info(SAMPLE_AUDIO_FILE_PATH)\n",
    "filesizeinbytes = os.path.getsize(SAMPLE_AUDIO_FILE_PATH)\n",
    "filesizeinkb = filesizeinbytes / 1024\n",
    "\n",
    "print(\"************ AUDIO METADATA ***************\")\n",
    "print()\n",
    "print(\"Sample Rate              :\", metadata.sample_rate)\n",
    "print(\"Number of Frames/Channel :\", metadata.num_frames)\n",
    "print(\"Number of Channels       :\", metadata.num_channels)\n",
    "print(\"Bits Depth               :\", metadata.bits_per_sample)\n",
    "print(\"Encoding Format          :\", metadata.encoding)\n",
    "print(f\"File size               : {filesizeinbytes} bytes / {filesizeinkb:.2f} kb\")\n",
    "print()\n",
    "print(\"******************************************\")"
   ]
  },
  {
   "cell_type": "markdown",
   "id": "c5d1c7f6",
   "metadata": {},
   "source": [
    "#### Waveform"
   ]
  },
  {
   "cell_type": "code",
   "execution_count": 34,
   "id": "306d4b53",
   "metadata": {},
   "outputs": [
    {
     "ename": "RuntimeError",
     "evalue": "Numpy is not available",
     "output_type": "error",
     "traceback": [
      "\u001b[1;31m---------------------------------------------------------------------------\u001b[0m",
      "\u001b[1;31mRuntimeError\u001b[0m                              Traceback (most recent call last)",
      "Input \u001b[1;32mIn [34]\u001b[0m, in \u001b[0;36m<cell line: 1>\u001b[1;34m()\u001b[0m\n\u001b[1;32m----> 1\u001b[0m waveform, sample_rate \u001b[38;5;241m=\u001b[39m \u001b[43mtorchaudio\u001b[49m\u001b[38;5;241;43m.\u001b[39;49m\u001b[43mload\u001b[49m\u001b[43m(\u001b[49m\u001b[43mSAMPLE_AUDIO_FILE_PATH\u001b[49m\u001b[43m)\u001b[49m\n",
      "File \u001b[1;32m~\\AppData\\Local\\Programs\\Python\\Python310\\lib\\site-packages\\torchaudio\\backend\\soundfile_backend.py:209\u001b[0m, in \u001b[0;36mload\u001b[1;34m(filepath, frame_offset, num_frames, normalize, channels_first, format)\u001b[0m\n\u001b[0;32m    206\u001b[0m     waveform \u001b[38;5;241m=\u001b[39m file_\u001b[38;5;241m.\u001b[39mread(frames, dtype, always_2d\u001b[38;5;241m=\u001b[39m\u001b[38;5;28;01mTrue\u001b[39;00m)\n\u001b[0;32m    207\u001b[0m     sample_rate \u001b[38;5;241m=\u001b[39m file_\u001b[38;5;241m.\u001b[39msamplerate\n\u001b[1;32m--> 209\u001b[0m waveform \u001b[38;5;241m=\u001b[39m \u001b[43mtorch\u001b[49m\u001b[38;5;241;43m.\u001b[39;49m\u001b[43mfrom_numpy\u001b[49m\u001b[43m(\u001b[49m\u001b[43mwaveform\u001b[49m\u001b[43m)\u001b[49m\n\u001b[0;32m    210\u001b[0m \u001b[38;5;28;01mif\u001b[39;00m channels_first:\n\u001b[0;32m    211\u001b[0m     waveform \u001b[38;5;241m=\u001b[39m waveform\u001b[38;5;241m.\u001b[39mt()\n",
      "\u001b[1;31mRuntimeError\u001b[0m: Numpy is not available"
     ]
    }
   ],
   "source": [
    "waveform, sample_rate = torchaudio.load(SAMPLE_AUDIO_FILE_PATH)"
   ]
  },
  {
   "cell_type": "code",
   "execution_count": 35,
   "id": "1f28faed",
   "metadata": {},
   "outputs": [
    {
     "ename": "NameError",
     "evalue": "name 'waveform' is not defined",
     "output_type": "error",
     "traceback": [
      "\u001b[1;31m---------------------------------------------------------------------------\u001b[0m",
      "\u001b[1;31mNameError\u001b[0m                                 Traceback (most recent call last)",
      "Input \u001b[1;32mIn [35]\u001b[0m, in \u001b[0;36m<cell line: 1>\u001b[1;34m()\u001b[0m\n\u001b[1;32m----> 1\u001b[0m plot_waveform(\u001b[43mwaveform\u001b[49m, sample_rate)\n",
      "\u001b[1;31mNameError\u001b[0m: name 'waveform' is not defined"
     ]
    }
   ],
   "source": [
    "plot_waveform(waveform, sample_rate)"
   ]
  },
  {
   "cell_type": "markdown",
   "id": "744ba6a7",
   "metadata": {},
   "source": [
    "#### Spectrogram"
   ]
  },
  {
   "cell_type": "code",
   "execution_count": null,
   "id": "fda35057",
   "metadata": {},
   "outputs": [],
   "source": [
    "plot_spectrogram(waveform, title='Spectrogram')"
   ]
  },
  {
   "cell_type": "markdown",
   "id": "59f0ffea",
   "metadata": {},
   "source": [
    "#### Mel-Spectrogram"
   ]
  },
  {
   "cell_type": "code",
   "execution_count": 36,
   "id": "b815d2ec",
   "metadata": {},
   "outputs": [
    {
     "ename": "NameError",
     "evalue": "name 'sample_rate' is not defined",
     "output_type": "error",
     "traceback": [
      "\u001b[1;31m---------------------------------------------------------------------------\u001b[0m",
      "\u001b[1;31mNameError\u001b[0m                                 Traceback (most recent call last)",
      "Input \u001b[1;32mIn [36]\u001b[0m, in \u001b[0;36m<cell line: 6>\u001b[1;34m()\u001b[0m\n\u001b[0;32m      3\u001b[0m hop_length \u001b[38;5;241m=\u001b[39m \u001b[38;5;241m512\u001b[39m\n\u001b[0;32m      4\u001b[0m n_mels \u001b[38;5;241m=\u001b[39m \u001b[38;5;241m128\u001b[39m\n\u001b[0;32m      6\u001b[0m mel_spectrogram \u001b[38;5;241m=\u001b[39m T\u001b[38;5;241m.\u001b[39mMelSpectrogram(\n\u001b[1;32m----> 7\u001b[0m     sample_rate\u001b[38;5;241m=\u001b[39m\u001b[43msample_rate\u001b[49m,\n\u001b[0;32m      8\u001b[0m     n_fft\u001b[38;5;241m=\u001b[39mn_fft,\n\u001b[0;32m      9\u001b[0m     win_length\u001b[38;5;241m=\u001b[39mwin_length,\n\u001b[0;32m     10\u001b[0m     hop_length\u001b[38;5;241m=\u001b[39mhop_length,\n\u001b[0;32m     11\u001b[0m     center\u001b[38;5;241m=\u001b[39m\u001b[38;5;28;01mTrue\u001b[39;00m,\n\u001b[0;32m     12\u001b[0m     pad_mode\u001b[38;5;241m=\u001b[39m\u001b[38;5;124m\"\u001b[39m\u001b[38;5;124mreflect\u001b[39m\u001b[38;5;124m\"\u001b[39m,\n\u001b[0;32m     13\u001b[0m     power\u001b[38;5;241m=\u001b[39m\u001b[38;5;241m2.0\u001b[39m,\n\u001b[0;32m     14\u001b[0m     norm\u001b[38;5;241m=\u001b[39m\u001b[38;5;124m'\u001b[39m\u001b[38;5;124mslaney\u001b[39m\u001b[38;5;124m'\u001b[39m,\n\u001b[0;32m     15\u001b[0m     onesided\u001b[38;5;241m=\u001b[39m\u001b[38;5;28;01mTrue\u001b[39;00m,\n\u001b[0;32m     16\u001b[0m     n_mels\u001b[38;5;241m=\u001b[39mn_mels,\n\u001b[0;32m     17\u001b[0m     mel_scale\u001b[38;5;241m=\u001b[39m\u001b[38;5;124m\"\u001b[39m\u001b[38;5;124mhtk\u001b[39m\u001b[38;5;124m\"\u001b[39m,\n\u001b[0;32m     18\u001b[0m )\n\u001b[0;32m     20\u001b[0m melspec \u001b[38;5;241m=\u001b[39m mel_spectrogram(waveform)\n\u001b[0;32m     21\u001b[0m plot_spectrogram(melspec[\u001b[38;5;241m0\u001b[39m], title\u001b[38;5;241m=\u001b[39m\u001b[38;5;124m\"\u001b[39m\u001b[38;5;124mMelSpectrogram - torchaudio\u001b[39m\u001b[38;5;124m\"\u001b[39m, ylabel\u001b[38;5;241m=\u001b[39m\u001b[38;5;124m'\u001b[39m\u001b[38;5;124mmel freq\u001b[39m\u001b[38;5;124m'\u001b[39m)\n",
      "\u001b[1;31mNameError\u001b[0m: name 'sample_rate' is not defined"
     ]
    }
   ],
   "source": [
    "n_fft = 1024\n",
    "win_length = None\n",
    "hop_length = 512\n",
    "n_mels = 128\n",
    "\n",
    "mel_spectrogram = T.MelSpectrogram(\n",
    "    sample_rate=sample_rate,\n",
    "    n_fft=n_fft,\n",
    "    win_length=win_length,\n",
    "    hop_length=hop_length,\n",
    "    center=True,\n",
    "    pad_mode=\"reflect\",\n",
    "    power=2.0,\n",
    "    norm='slaney',\n",
    "    onesided=True,\n",
    "    n_mels=n_mels,\n",
    "    mel_scale=\"htk\",\n",
    ")\n",
    "\n",
    "melspec = mel_spectrogram(waveform)\n",
    "plot_spectrogram(melspec[0], title=\"MelSpectrogram - torchaudio\", ylabel='mel freq')"
   ]
  },
  {
   "cell_type": "markdown",
   "id": "8aeb7ca6",
   "metadata": {},
   "source": [
    "### Visualize images"
   ]
  },
  {
   "cell_type": "code",
   "execution_count": null,
   "id": "3ee84bc4",
   "metadata": {},
   "outputs": [],
   "source": []
  },
  {
   "cell_type": "markdown",
   "id": "d3ed1852",
   "metadata": {},
   "source": [
    "## Machine learning"
   ]
  },
  {
   "cell_type": "code",
   "execution_count": null,
   "id": "7cbc1152",
   "metadata": {},
   "outputs": [],
   "source": [
    "# Load Dataset from Kaggle\n",
    "# Split dataset into train and val\n",
    "# Transform audio files to image\n",
    "# Perform image analysis using ANN\n",
    "# Perform image analysis using CNN\n",
    "# Perform image analysis using transfer learning(Resnet-50)\n",
    "# Validate on test dataset : Display metrics\n",
    "# Evaluate sample offset on best model"
   ]
  }
 ],
 "metadata": {
  "kernelspec": {
   "display_name": "Python 3 (ipykernel)",
   "language": "python",
   "name": "python3"
  },
  "language_info": {
   "codemirror_mode": {
    "name": "ipython",
    "version": 3
   },
   "file_extension": ".py",
   "mimetype": "text/x-python",
   "name": "python",
   "nbconvert_exporter": "python",
   "pygments_lexer": "ipython3",
   "version": "3.10.4"
  }
 },
 "nbformat": 4,
 "nbformat_minor": 5
}
